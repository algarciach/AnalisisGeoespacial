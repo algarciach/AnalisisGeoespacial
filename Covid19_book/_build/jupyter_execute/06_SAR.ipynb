{
 "cells": [
  {
   "cell_type": "markdown",
   "metadata": {},
   "source": [
    "# Modelos de Regresion Espacial SAR"
   ]
  },
  {
   "cell_type": "markdown",
   "metadata": {},
   "source": [
    "## Autocorrelación Endógena con la variable dependiente"
   ]
  },
  {
   "cell_type": "code",
   "execution_count": 1,
   "metadata": {},
   "outputs": [],
   "source": [
    "import geopandas as gpd\n",
    "import pandas as pd\n",
    "import numpy as np\n",
    "import libpysal\n",
    "from libpysal.weights import Queen\n",
    "from sklearn.preprocessing import StandardScaler\n",
    "import spreg"
   ]
  },
  {
   "cell_type": "code",
   "execution_count": 2,
   "metadata": {},
   "outputs": [],
   "source": [
    "gdf = gpd.read_file(\"https://github.com/algarciach/AnalisisGeoespacial/raw/main/Covid19_model/Data/covid19_municipios_antioquia.gpkg\")\n",
    "gdf.info()"
   ]
  },
  {
   "cell_type": "code",
   "execution_count": 24,
   "metadata": {},
   "outputs": [
    {
     "name": "stderr",
     "output_type": "stream",
     "text": [
      "/var/folders/nq/kj34bm5140bgwbktdx1z94cm0000gn/T/ipykernel_1010/1856113932.py:11: FutureWarning: `use_index` defaults to False but will default to True in future. Set True/False directly to control this behavior and silence this warning\n",
      "  w = Queen.from_dataframe(gdf)\n"
     ]
    },
    {
     "name": "stdout",
     "output_type": "stream",
     "text": [
      "REGRESSION RESULTS\n",
      "------------------\n",
      "\n",
      "SUMMARY OF OUTPUT: ORDINARY LEAST SQUARES\n",
      "-----------------------------------------\n",
      "Data set            :     unknown\n",
      "Weights matrix      :        None\n",
      "Dependent Variable  :log_density_cfr                Number of Observations:         125\n",
      "Mean dependent var  :      0.0146                Number of Variables   :          11\n",
      "S.D. dependent var  :      0.0161                Degrees of Freedom    :         114\n",
      "R-squared           :      0.2723\n",
      "Adjusted R-squared  :      0.2085\n",
      "Sum squared residual:    0.023518                F-statistic           :      4.2656\n",
      "Sigma-square        :       0.000                Prob(F-statistic)     :   4.707e-05\n",
      "S.E. of regression  :       0.014                Log likelihood        :     358.777\n",
      "Sigma-square ML     :       0.000                Akaike info criterion :    -695.553\n",
      "S.E of regression ML:      0.0137                Schwarz criterion     :    -664.442\n",
      "\n",
      "------------------------------------------------------------------------------------\n",
      "            Variable     Coefficient       Std.Error     t-Statistic     Probability\n",
      "------------------------------------------------------------------------------------\n",
      "            CONSTANT         0.01504         0.00140        10.75680         0.00000\n",
      "             altitud         0.03957         0.01723         2.29662         0.02347\n",
      "         temperatura         0.03626         0.01619         2.24025         0.02701\n",
      "    humedad_relativa        -0.00084         0.00286        -0.29564         0.76804\n",
      "        urbanizacion         0.00136         0.00151         0.90349         0.36817\n",
      "            densidad         0.00411         0.00174         2.35734         0.02011\n",
      "           w_altitud        -0.00818         0.00484        -1.68961         0.09384\n",
      "       w_temperatura        -0.00805         0.00472        -1.70509         0.09090\n",
      "  w_humedad_relativa        -0.00035         0.00072        -0.48710         0.62712\n",
      "      w_urbanizacion        -0.00032         0.00056        -0.56459         0.57346\n",
      "          w_densidad         0.00094         0.00069         1.36916         0.17364\n",
      "------------------------------------------------------------------------------------\n",
      "\n",
      "REGRESSION DIAGNOSTICS\n",
      "MULTICOLLINEARITY CONDITION NUMBER          53.574\n",
      "\n",
      "TEST ON NORMALITY OF ERRORS\n",
      "TEST                             DF        VALUE           PROB\n",
      "Jarque-Bera                       2        832.594           0.0000\n",
      "\n",
      "DIAGNOSTICS FOR HETEROSKEDASTICITY\n",
      "RANDOM COEFFICIENTS\n",
      "TEST                             DF        VALUE           PROB\n",
      "Breusch-Pagan test               10         47.994           0.0000\n",
      "Koenker-Bassett test             10          7.130           0.7131\n",
      "================================ END OF REPORT =====================================\n"
     ]
    }
   ],
   "source": [
    "gdf['density_cfr'] = (gdf['cfr'] / gdf['area_municipio'])\n",
    "gdf['y'] = np.log(gdf['density_cfr'] + 1)\n",
    "\n",
    "y = gdf['y'].values.reshape(-1, 1)\n",
    "independent_vars = [\"altitud\", \"temperatura\", \"humedad_relativa\", \"urbanizacion\", \"densidad\"]\n",
    "X = gdf[independent_vars].values\n",
    "\n",
    "st = StandardScaler()\n",
    "X_scaled = st.fit_transform(X)\n",
    "X_scaled_df = pd.DataFrame(X_scaled, columns=independent_vars)\n",
    "w = Queen.from_dataframe(gdf)\n",
    "\n",
    "wx_dict = {}\n",
    "for var in independent_vars:\n",
    "    wx_dict[f'w_{var}'] = libpysal.weights.spatial_lag.lag_spatial(w, X_scaled_df[var])\n",
    "\n",
    "wx_df = pd.DataFrame(wx_dict)\n",
    "slx_exog = pd.concat([X_scaled_df, wx_df], axis=1)\n",
    "\n",
    "ols_model = spreg.OLS(gdf['y'].values.reshape((-1, 1)), \n",
    "                      slx_exog.values, \n",
    "                      name_y='log_density_cfr', \n",
    "                      name_x=slx_exog.columns.tolist(),\n",
    "                      name_w='queen_contiguity')\n",
    "\n",
    "print(ols_model.summary)"
   ]
  },
  {
   "cell_type": "code",
   "execution_count": 25,
   "metadata": {},
   "outputs": [
    {
     "name": "stdout",
     "output_type": "stream",
     "text": [
      "REGRESSION RESULTS\n",
      "------------------\n",
      "\n",
      "SUMMARY OF OUTPUT: GM SPATIALLY WEIGHTED LEAST SQUARES (HET)\n",
      "------------------------------------------------------------\n",
      "Data set            :     unknown\n",
      "Weights matrix      :queen_contiguity\n",
      "Dependent Variable  :log_density_cfr_rec                Number of Observations:         125\n",
      "Mean dependent var  :      0.0146                Number of Variables   :           6\n",
      "S.D. dependent var  :      0.0161                Degrees of Freedom    :         119\n",
      "Pseudo R-squared    :      0.2464\n",
      "N. of iterations    :           1                Step1c computed       :          No\n",
      "\n",
      "------------------------------------------------------------------------------------\n",
      "            Variable     Coefficient       Std.Error     z-Statistic     Probability\n",
      "------------------------------------------------------------------------------------\n",
      "            CONSTANT         0.01605         0.00193         8.33170         0.00000\n",
      "             altitud         0.02175         0.00914         2.37910         0.01735\n",
      "         temperatura         0.01928         0.00945         2.04110         0.04124\n",
      "    humedad_relativa        -0.00127         0.00123        -1.03564         0.30037\n",
      "        urbanizacion         0.00166         0.00173         0.95863         0.33774\n",
      "            densidad         0.00478         0.00182         2.62630         0.00863\n",
      "              lambda         0.05693         0.02174         2.61928         0.00881\n",
      "------------------------------------------------------------------------------------\n",
      "================================ END OF REPORT =====================================\n"
     ]
    }
   ],
   "source": [
    "spatial_error_model = spreg.GM_Error_Het(y, X_scaled, w=w,\n",
    "                                         name_y='log_density_cfr_rec',\n",
    "                                         name_x=independent_vars,\n",
    "                                         name_w='queen_contiguity')\n",
    "print(spatial_error_model.summary)"
   ]
  },
  {
   "cell_type": "code",
   "execution_count": 26,
   "metadata": {},
   "outputs": [
    {
     "name": "stdout",
     "output_type": "stream",
     "text": [
      "REGRESSION RESULTS\n",
      "------------------\n",
      "\n",
      "SUMMARY OF OUTPUT: ML SPATIAL ERROR (METHOD = full)\n",
      "---------------------------------------------------\n",
      "Data set            :     unknown\n",
      "Weights matrix      :queen_contiguity\n",
      "Dependent Variable  :log_density_cfr_rec                Number of Observations:         125\n",
      "Mean dependent var  :      0.0146                Number of Variables   :           6\n",
      "S.D. dependent var  :      0.0161                Degrees of Freedom    :         119\n",
      "Pseudo R-squared    :      0.2458\n",
      "Log likelihood      :    358.0124\n",
      "Sigma-square ML     :      0.0002                Akaike info criterion :    -704.025\n",
      "S.E of regression   :      0.0137                Schwarz criterion     :    -687.055\n",
      "\n",
      "------------------------------------------------------------------------------------\n",
      "            Variable     Coefficient       Std.Error     z-Statistic     Probability\n",
      "------------------------------------------------------------------------------------\n",
      "            CONSTANT        -0.13108         0.09551        -1.37239         0.16994\n",
      "             altitud         0.00003         0.00001         2.16836         0.03013\n",
      "         temperatura         0.00561         0.00289         1.94133         0.05222\n",
      "    humedad_relativa        -0.00026         0.00034        -0.74815         0.45437\n",
      "        urbanizacion         0.00879         0.00733         1.19882         0.23060\n",
      "            densidad         0.00000         0.00000         3.18338         0.00146\n",
      "              lambda         0.05508         0.02323         2.37076         0.01775\n",
      "------------------------------------------------------------------------------------\n",
      "================================ END OF REPORT =====================================\n"
     ]
    },
    {
     "name": "stderr",
     "output_type": "stream",
     "text": [
      "/usr/local/Caskroom/miniforge/base/envs/geo/lib/python3.11/site-packages/spreg/ml_error.py:184: RuntimeWarning: Method 'bounded' does not support relative tolerance in x; defaulting to absolute tolerance.\n",
      "  res = minimize_scalar(\n"
     ]
    }
   ],
   "source": [
    "sem = spreg.ML_Error(y, X, w=w, name_y='log_density_cfr_rec', name_x=independent_vars, name_w='queen_contiguity')\n",
    "print(sem.summary)"
   ]
  },
  {
   "cell_type": "code",
   "execution_count": 27,
   "metadata": {},
   "outputs": [
    {
     "name": "stdout",
     "output_type": "stream",
     "text": [
      "REGRESSION RESULTS\n",
      "------------------\n",
      "\n",
      "SUMMARY OF OUTPUT: SPATIAL TWO STAGE LEAST SQUARES\n",
      "--------------------------------------------------\n",
      "Data set            :     unknown\n",
      "Weights matrix      :queen_contiguity\n",
      "Dependent Variable  :log_density_cfr_rec                Number of Observations:         125\n",
      "Mean dependent var  :      0.0146                Number of Variables   :           7\n",
      "S.D. dependent var  :      0.0161                Degrees of Freedom    :         118\n",
      "Pseudo R-squared    :      0.2489\n",
      "Spatial Pseudo R-squared:  0.2504\n",
      "\n",
      "------------------------------------------------------------------------------------\n",
      "            Variable     Coefficient       Std.Error     z-Statistic     Probability\n",
      "------------------------------------------------------------------------------------\n",
      "            CONSTANT         0.01473         0.00419         3.51910         0.00043\n",
      "             altitud         0.01809         0.01059         1.70716         0.08779\n",
      "         temperatura         0.01562         0.01004         1.55585         0.11974\n",
      "    humedad_relativa        -0.00142         0.00144        -0.97976         0.32720\n",
      "        urbanizacion         0.00162         0.00139         1.16594         0.24364\n",
      "            densidad         0.00521         0.00162         3.20736         0.00134\n",
      "W_log_density_cfr_rec        -0.00244         0.05695        -0.04284         0.96583\n",
      "------------------------------------------------------------------------------------\n",
      "Instrumented: W_log_density_cfr_rec\n",
      "Instruments: W_altitud, W_densidad, W_humedad_relativa, W_temperatura,\n",
      "             W_urbanizacion\n",
      "\n",
      "DIAGNOSTICS FOR SPATIAL DEPENDENCE\n",
      "TEST                              DF         VALUE           PROB\n",
      "Anselin-Kelejian Test             1          0.432           0.5110\n",
      "\n",
      "SPATIAL LAG MODEL IMPACTS\n",
      "Impacts computed using the 'simple' method.\n",
      "            Variable         Direct        Indirect          Total\n",
      "             altitud         0.0181         -0.0000          0.0180\n",
      "         temperatura         0.0156         -0.0000          0.0156\n",
      "    humedad_relativa        -0.0014          0.0000         -0.0014\n",
      "        urbanizacion         0.0016         -0.0000          0.0016\n",
      "            densidad         0.0052         -0.0000          0.0052\n",
      "================================ END OF REPORT =====================================\n"
     ]
    }
   ],
   "source": [
    "spatial_lag_model = spreg.GM_Lag(y, X_scaled, w=w,\n",
    "                                 name_y='log_density_cfr_rec',\n",
    "                                 name_x=independent_vars,\n",
    "                                 name_w='queen_contiguity')\n",
    "print(spatial_lag_model.summary)"
   ]
  }
 ],
 "metadata": {
  "kernelspec": {
   "display_name": "geo",
   "language": "python",
   "name": "python3"
  },
  "language_info": {
   "codemirror_mode": {
    "name": "ipython",
    "version": 3
   },
   "file_extension": ".py",
   "mimetype": "text/x-python",
   "name": "python",
   "nbconvert_exporter": "python",
   "pygments_lexer": "ipython3",
   "version": "3.11.12"
  }
 },
 "nbformat": 4,
 "nbformat_minor": 2
}