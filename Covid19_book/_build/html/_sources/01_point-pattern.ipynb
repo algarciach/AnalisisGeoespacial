{
 "cells": [
  {
   "cell_type": "markdown",
   "metadata": {},
   "source": [
    "# Patron de Puntos"
   ]
  }
 ],
 "metadata": {
  "language_info": {
   "name": "python"
  }
 },
 "nbformat": 4,
 "nbformat_minor": 2
}
