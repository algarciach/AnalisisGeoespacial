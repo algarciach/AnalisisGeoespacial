{
 "cells": [
  {
   "cell_type": "markdown",
   "metadata": {},
   "source": [
    "# Modelos de Regresion Espacial SAR"
   ]
  },
  {
   "cell_type": "markdown",
   "metadata": {},
   "source": [
    "## Autocorrelación Endógena con la variable dependiente"
   ]
  },
  {
   "cell_type": "code",
   "execution_count": 6,
   "metadata": {},
   "outputs": [],
   "source": [
    "import geopandas as gpd\n",
    "import pandas as pd\n",
    "import numpy as np\n",
    "import libpysal\n",
    "from libpysal.weights import Queen\n",
    "from sklearn.preprocessing import StandardScaler\n",
    "import spreg"
   ]
  },
  {
   "cell_type": "code",
   "execution_count": 2,
   "metadata": {},
   "outputs": [
    {
     "name": "stdout",
     "output_type": "stream",
     "text": [
      "<class 'geopandas.geodataframe.GeoDataFrame'>\n",
      "RangeIndex: 125 entries, 0 to 124\n",
      "Data columns (total 14 columns):\n",
      " #   Column               Non-Null Count  Dtype   \n",
      "---  ------               --------------  -----   \n",
      " 0   codigo_municipio     125 non-null    object  \n",
      " 1   nombre_municipio     125 non-null    object  \n",
      " 2   codigo_subregion     125 non-null    object  \n",
      " 3   nombre_subregion     125 non-null    object  \n",
      " 4   area_municipio       125 non-null    float64 \n",
      " 5   altitud              125 non-null    float64 \n",
      " 6   temperatura          125 non-null    float64 \n",
      " 7   humedad_relativa     125 non-null    float64 \n",
      " 8   poblacion            125 non-null    int64   \n",
      " 9   densidad             125 non-null    float64 \n",
      " 10  muertes_covid19      125 non-null    int64   \n",
      " 11  recuperados_covid19  125 non-null    int64   \n",
      " 12  cfr                  125 non-null    float64 \n",
      " 13  geometry             125 non-null    geometry\n",
      "dtypes: float64(6), geometry(1), int64(3), object(4)\n",
      "memory usage: 13.8+ KB\n"
     ]
    }
   ],
   "source": [
    "gdf = gpd.read_file(\"https://github.com/algarciach/AnalisisGeoespacial/raw/main/Covid19_model/Data/covid19_municipios_antioquia.gpkg\")\n",
    "gdf.info()"
   ]
  },
  {
   "cell_type": "code",
   "execution_count": 7,
   "metadata": {},
   "outputs": [
    {
     "name": "stderr",
     "output_type": "stream",
     "text": [
      "/var/folders/nq/kj34bm5140bgwbktdx1z94cm0000gn/T/ipykernel_25034/2596927528.py:11: FutureWarning: `use_index` defaults to False but will default to True in future. Set True/False directly to control this behavior and silence this warning\n",
      "  w = Queen.from_dataframe(gdf)\n"
     ]
    },
    {
     "name": "stdout",
     "output_type": "stream",
     "text": [
      "REGRESSION RESULTS\n",
      "------------------\n",
      "\n",
      "SUMMARY OF OUTPUT: ORDINARY LEAST SQUARES\n",
      "-----------------------------------------\n",
      "Data set            :     unknown\n",
      "Weights matrix      :        None\n",
      "Dependent Variable  :log_density_cfr                Number of Observations:         125\n",
      "Mean dependent var  :      0.0146                Number of Variables   :           9\n",
      "S.D. dependent var  :      0.0161                Degrees of Freedom    :         116\n",
      "R-squared           :      0.2656\n",
      "Adjusted R-squared  :      0.2150\n",
      "Sum squared residual:   0.0237285                F-statistic           :      5.2449\n",
      "Sigma-square        :       0.000                Prob(F-statistic)     :   1.301e-05\n",
      "S.E. of regression  :       0.014                Log likelihood        :     358.220\n",
      "Sigma-square ML     :       0.000                Akaike info criterion :    -698.439\n",
      "S.E of regression ML:      0.0138                Schwarz criterion     :    -672.984\n",
      "\n",
      "------------------------------------------------------------------------------------\n",
      "            Variable     Coefficient       Std.Error     t-Statistic     Probability\n",
      "------------------------------------------------------------------------------------\n",
      "            CONSTANT         0.01507         0.00139        10.82174         0.00000\n",
      "            densidad         0.00433         0.00171         2.53201         0.01268\n",
      "             altitud         0.03940         0.01706         2.30955         0.02268\n",
      "         temperatura         0.03610         0.01604         2.25107         0.02627\n",
      "    humedad_relativa        -0.00065         0.00278        -0.23342         0.81585\n",
      "          w_densidad         0.00088         0.00057         1.54355         0.12542\n",
      "           w_altitud        -0.00807         0.00479        -1.68423         0.09483\n",
      "       w_temperatura        -0.00793         0.00468        -1.69622         0.09253\n",
      "  w_humedad_relativa        -0.00037         0.00070        -0.52933         0.59759\n",
      "------------------------------------------------------------------------------------\n",
      "\n",
      "REGRESSION DIAGNOSTICS\n",
      "MULTICOLLINEARITY CONDITION NUMBER          52.326\n",
      "\n",
      "TEST ON NORMALITY OF ERRORS\n",
      "TEST                             DF        VALUE           PROB\n",
      "Jarque-Bera                       2        889.661           0.0000\n",
      "\n",
      "DIAGNOSTICS FOR HETEROSKEDASTICITY\n",
      "RANDOM COEFFICIENTS\n",
      "TEST                             DF        VALUE           PROB\n",
      "Breusch-Pagan test                8         36.288           0.0000\n",
      "Koenker-Bassett test              8          5.243           0.7313\n",
      "================================ END OF REPORT =====================================\n"
     ]
    }
   ],
   "source": [
    "gdf['density_cfr'] = (gdf['cfr'] / gdf['area_municipio'])\n",
    "gdf['y'] = np.log(gdf['density_cfr'] + 1)\n",
    "\n",
    "y = gdf['y'].values.reshape(-1, 1)\n",
    "independent_vars = ['densidad', 'altitud', 'temperatura', 'humedad_relativa']\n",
    "X = gdf[independent_vars].values\n",
    "\n",
    "st = StandardScaler()\n",
    "X_scaled = st.fit_transform(X)\n",
    "X_scaled_df = pd.DataFrame(X_scaled, columns=independent_vars)\n",
    "w = Queen.from_dataframe(gdf)\n",
    "\n",
    "wx_dict = {}\n",
    "for var in independent_vars:\n",
    "    wx_dict[f'w_{var}'] = libpysal.weights.spatial_lag.lag_spatial(w, X_scaled_df[var])\n",
    "\n",
    "wx_df = pd.DataFrame(wx_dict)\n",
    "slx_exog = pd.concat([X_scaled_df, wx_df], axis=1)\n",
    "\n",
    "ols_model = spreg.OLS(gdf['y'].values.reshape((-1, 1)), \n",
    "                      slx_exog.values, \n",
    "                      name_y='log_density_cfr', \n",
    "                      name_x=slx_exog.columns.tolist(),\n",
    "                      name_w='queen_contiguity')\n",
    "\n",
    "print(ols_model.summary)"
   ]
  },
  {
   "cell_type": "markdown",
   "metadata": {},
   "source": [
    "```text\n",
    "  w = Queen.from_dataframe(gdf)\n",
    "REGRESSION RESULTS\n",
    "------------------\n",
    "\n",
    "SUMMARY OF OUTPUT: ORDINARY LEAST SQUARES\n",
    "-----------------------------------------\n",
    "Data set            :     unknown\n",
    "Weights matrix      :        None\n",
    "Dependent Variable  :log_density_cfr                Number of Observations:         125\n",
    "Mean dependent var  :      0.0146                Number of Variables   :           9\n",
    "S.D. dependent var  :      0.0161                Degrees of Freedom    :         116\n",
    "R-squared           :      0.2656\n",
    "Adjusted R-squared  :      0.2150\n",
    "Sum squared residual:   0.0237285                F-statistic           :      5.2449\n",
    "Sigma-square        :       0.000                Prob(F-statistic)     :   1.301e-05\n",
    "S.E. of regression  :       0.014                Log likelihood        :     358.220\n",
    "Sigma-square ML     :       0.000                Akaike info criterion :    -698.439\n",
    "S.E of regression ML:      0.0138                Schwarz criterion     :    -672.984\n",
    "\n",
    "------------------------------------------------------------------------------------\n",
    "            Variable     Coefficient       Std.Error     t-Statistic     Probability\n",
    "------------------------------------------------------------------------------------\n",
    "            CONSTANT         0.01507         0.00139        10.82174         0.00000\n",
    "            densidad         0.00433         0.00171         2.53201         0.01268\n",
    "             altitud         0.03940         0.01706         2.30955         0.02268\n",
    "         temperatura         0.03610         0.01604         2.25107         0.02627\n",
    "...\n",
    "TEST                             DF        VALUE           PROB\n",
    "Breusch-Pagan test                8         36.288           0.0000\n",
    "Koenker-Bassett test              8          5.243           0.7313\n",
    "================================ END OF REPORT =====================================\n",
    "```\n",
    "**Conclusiones**\n",
    "\n",
    "Este modelo OLS es el primero que muestra la densidad poblacional como un predictor estadísticamente significativo, junto con la altitud y la temperatura. La relación con la variable dependiente transformada (log_density_cfr) es positiva para estas tres variables, sugiriendo que a medida que aumentan la densidad, altitud y temperatura, también lo hace la densidad del logaritmo de la Tasa de Letalidad.\n",
    "\n",
    "Aunque el poder explicativo general (R-cuadrado del 26.56%) es moderado y el modelo es globalmente significativo, la indicación de heterocedasticidad por la prueba de Breusch-Pagan es una preocupación importante. La heterocedasticidad significa que los errores estándar y, por lo tanto, los p-valores y los intervalos de confianza, podrían ser incorrectos. Esto podría llevar a conclusiones engañosas sobre la significancia de tus variables.\n",
    "\n",
    "Para abordar la heterocedasticidad, podrías considerar:\n",
    "\n",
    "Utilizar errores estándar robustos.\n",
    "\n",
    "Transformaciones adicionales de tus variables.\n",
    "\n",
    "Modelos alternativos que sean más robustos a la heterocedasticidad (por ejemplo, ciertos tipos de GLM o modelos que modelen la varianza)."
   ]
  },
  {
   "cell_type": "code",
   "execution_count": 8,
   "metadata": {},
   "outputs": [
    {
     "name": "stdout",
     "output_type": "stream",
     "text": [
      "REGRESSION RESULTS\n",
      "------------------\n",
      "\n",
      "SUMMARY OF OUTPUT: GM SPATIALLY WEIGHTED LEAST SQUARES (HET)\n",
      "------------------------------------------------------------\n",
      "Data set            :     unknown\n",
      "Weights matrix      :queen_contiguity\n",
      "Dependent Variable  :log_density_cfr_rec                Number of Observations:         125\n",
      "Mean dependent var  :      0.0146                Number of Variables   :           5\n",
      "S.D. dependent var  :      0.0161                Degrees of Freedom    :         120\n",
      "Pseudo R-squared    :      0.2378\n",
      "N. of iterations    :           1                Step1c computed       :          No\n",
      "\n",
      "------------------------------------------------------------------------------------\n",
      "            Variable     Coefficient       Std.Error     z-Statistic     Probability\n",
      "------------------------------------------------------------------------------------\n",
      "            CONSTANT         0.01616         0.00200         8.07299         0.00000\n",
      "            densidad         0.00532         0.00178         2.99409         0.00275\n",
      "             altitud         0.02272         0.00911         2.49296         0.01267\n",
      "         temperatura         0.02020         0.00944         2.14022         0.03234\n",
      "    humedad_relativa        -0.00112         0.00115        -0.97549         0.32932\n",
      "              lambda         0.05863         0.02047         2.86342         0.00419\n",
      "------------------------------------------------------------------------------------\n",
      "================================ END OF REPORT =====================================\n"
     ]
    }
   ],
   "source": [
    "spatial_error_model = spreg.GM_Error_Het(y, X_scaled, w=w,\n",
    "                                         name_y='log_density_cfr_rec',\n",
    "                                         name_x=independent_vars,\n",
    "                                         name_w='queen_contiguity')\n",
    "print(spatial_error_model.summary)"
   ]
  },
  {
   "cell_type": "code",
   "execution_count": 9,
   "metadata": {},
   "outputs": [
    {
     "name": "stdout",
     "output_type": "stream",
     "text": [
      "REGRESSION RESULTS\n",
      "------------------\n",
      "\n",
      "SUMMARY OF OUTPUT: SPATIAL TWO STAGE LEAST SQUARES\n",
      "--------------------------------------------------\n",
      "Data set            :     unknown\n",
      "Weights matrix      :queen_contiguity\n",
      "Dependent Variable  :log_density_cfr_rec                Number of Observations:         125\n",
      "Mean dependent var  :      0.0146                Number of Variables   :           6\n",
      "S.D. dependent var  :      0.0161                Degrees of Freedom    :         119\n",
      "Pseudo R-squared    :      0.2334\n",
      "Spatial Pseudo R-squared:  0.2270\n",
      "\n",
      "------------------------------------------------------------------------------------\n",
      "            Variable     Coefficient       Std.Error     z-Statistic     Probability\n",
      "------------------------------------------------------------------------------------\n",
      "            CONSTANT         0.01375         0.00428         3.21669         0.00130\n",
      "            densidad         0.00565         0.00158         3.57898         0.00034\n",
      "             altitud         0.01742         0.01075         1.61967         0.10530\n",
      "         temperatura         0.01522         0.01018         1.49605         0.13464\n",
      "    humedad_relativa        -0.00126         0.00146        -0.86226         0.38854\n",
      "W_log_density_cfr_rec         0.01152         0.05822         0.19786         0.84316\n",
      "------------------------------------------------------------------------------------\n",
      "Instrumented: W_log_density_cfr_rec\n",
      "Instruments: W_altitud, W_densidad, W_humedad_relativa, W_temperatura\n",
      "\n",
      "DIAGNOSTICS FOR SPATIAL DEPENDENCE\n",
      "TEST                              DF         VALUE           PROB\n",
      "Anselin-Kelejian Test             1          0.189           0.6641\n",
      "\n",
      "SPATIAL LAG MODEL IMPACTS\n",
      "Impacts computed using the 'simple' method.\n",
      "            Variable         Direct        Indirect          Total\n",
      "            densidad         0.0056          0.0001          0.0057\n",
      "             altitud         0.0174          0.0002          0.0176\n",
      "         temperatura         0.0152          0.0002          0.0154\n",
      "    humedad_relativa        -0.0013         -0.0000         -0.0013\n",
      "================================ END OF REPORT =====================================\n"
     ]
    }
   ],
   "source": [
    "spatial_lag_model = spreg.GM_Lag(y, X_scaled, w=w,\n",
    "                                 name_y='log_density_cfr_rec',\n",
    "                                 name_x=independent_vars,\n",
    "                                 name_w='queen_contiguity')\n",
    "print(spatial_lag_model.summary)"
   ]
  }
 ],
 "metadata": {
  "kernelspec": {
   "display_name": "geo",
   "language": "python",
   "name": "python3"
  },
  "language_info": {
   "codemirror_mode": {
    "name": "ipython",
    "version": 3
   },
   "file_extension": ".py",
   "mimetype": "text/x-python",
   "name": "python",
   "nbconvert_exporter": "python",
   "pygments_lexer": "ipython3",
   "version": "3.11.12"
  }
 },
 "nbformat": 4,
 "nbformat_minor": 2
}
