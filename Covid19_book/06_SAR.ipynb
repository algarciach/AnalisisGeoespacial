{
 "cells": [
  {
   "cell_type": "markdown",
   "metadata": {},
   "source": [
    "# Modelos de Regresion Espacial SAR"
   ]
  },
  {
   "cell_type": "markdown",
   "metadata": {},
   "source": [
    "## Autocorrelación Endógena con la variable dependiente"
   ]
  },
  {
   "cell_type": "code",
   "execution_count": 12,
   "metadata": {},
   "outputs": [],
   "source": [
    "import geopandas as gpd\n",
    "import pandas as pd\n",
    "import numpy as np\n",
    "import libpysal\n",
    "from libpysal.weights import Queen\n",
    "from sklearn.preprocessing import StandardScaler\n",
    "import spreg"
   ]
  },
  {
   "cell_type": "code",
   "execution_count": 13,
   "metadata": {},
   "outputs": [
    {
     "name": "stdout",
     "output_type": "stream",
     "text": [
      "<class 'geopandas.geodataframe.GeoDataFrame'>\n",
      "RangeIndex: 125 entries, 0 to 124\n",
      "Data columns (total 15 columns):\n",
      " #   Column               Non-Null Count  Dtype   \n",
      "---  ------               --------------  -----   \n",
      " 0   codigo_municipio     125 non-null    object  \n",
      " 1   nombre_municipio     125 non-null    object  \n",
      " 2   codigo_subregion     125 non-null    object  \n",
      " 3   nombre_subregion     125 non-null    object  \n",
      " 4   area_municipio       125 non-null    float64 \n",
      " 5   altitud              125 non-null    float64 \n",
      " 6   temperatura          125 non-null    float64 \n",
      " 7   humedad_relativa     125 non-null    float64 \n",
      " 8   poblacion            125 non-null    int64   \n",
      " 9   urbanizacion         125 non-null    float64 \n",
      " 10  densidad             125 non-null    float64 \n",
      " 11  muertes_covid19      125 non-null    int64   \n",
      " 12  recuperados_covid19  125 non-null    int64   \n",
      " 13  cfr                  125 non-null    float64 \n",
      " 14  geometry             125 non-null    geometry\n",
      "dtypes: float64(7), geometry(1), int64(3), object(4)\n",
      "memory usage: 14.8+ KB\n"
     ]
    }
   ],
   "source": [
    "gdf = gpd.read_file(\"https://github.com/algarciach/AnalisisGeoespacial/raw/main/Covid19_model/Data/covid19_municipios_antioquia.gpkg\")\n",
    "gdf.info()"
   ]
  },
  {
   "cell_type": "code",
   "execution_count": 14,
   "metadata": {},
   "outputs": [
    {
     "name": "stderr",
     "output_type": "stream",
     "text": [
      "/var/folders/nq/kj34bm5140bgwbktdx1z94cm0000gn/T/ipykernel_1010/3943410554.py:11: FutureWarning: `use_index` defaults to False but will default to True in future. Set True/False directly to control this behavior and silence this warning\n",
      "  w = Queen.from_dataframe(gdf)\n"
     ]
    },
    {
     "name": "stdout",
     "output_type": "stream",
     "text": [
      "REGRESSION RESULTS\n",
      "------------------\n",
      "\n",
      "SUMMARY OF OUTPUT: ORDINARY LEAST SQUARES\n",
      "-----------------------------------------\n",
      "Data set            :     unknown\n",
      "Weights matrix      :        None\n",
      "Dependent Variable  :log_density_cfr                Number of Observations:         125\n",
      "Mean dependent var  :      0.0146                Number of Variables   :           9\n",
      "S.D. dependent var  :      0.0161                Degrees of Freedom    :         116\n",
      "R-squared           :      0.2402\n",
      "Adjusted R-squared  :      0.1878\n",
      "Sum squared residual:   0.0245561                F-statistic           :      4.5831\n",
      "Sigma-square        :       0.000                Prob(F-statistic)     :   7.092e-05\n",
      "S.E. of regression  :       0.015                Log likelihood        :     356.077\n",
      "Sigma-square ML     :       0.000                Akaike info criterion :    -694.154\n",
      "S.E of regression ML:      0.0140                Schwarz criterion     :    -668.699\n",
      "\n",
      "------------------------------------------------------------------------------------\n",
      "            Variable     Coefficient       Std.Error     t-Statistic     Probability\n",
      "------------------------------------------------------------------------------------\n",
      "            CONSTANT         0.01432         0.00138        10.41520         0.00000\n",
      "             altitud         0.00141         0.00262         0.53619         0.59285\n",
      "    humedad_relativa        -0.00292         0.00274        -1.06814         0.28767\n",
      "        urbanizacion         0.00149         0.00152         0.97704         0.33058\n",
      "            densidad         0.00461         0.00175         2.63177         0.00965\n",
      "           w_altitud         0.00028         0.00068         0.41150         0.68146\n",
      "  w_humedad_relativa         0.00013         0.00067         0.18849         0.85082\n",
      "      w_urbanizacion        -0.00021         0.00056        -0.37197         0.71059\n",
      "          w_densidad         0.00066         0.00066         1.00605         0.31648\n",
      "------------------------------------------------------------------------------------\n",
      "\n",
      "REGRESSION DIAGNOSTICS\n",
      "MULTICOLLINEARITY CONDITION NUMBER           4.941\n",
      "\n",
      "TEST ON NORMALITY OF ERRORS\n",
      "TEST                             DF        VALUE           PROB\n",
      "Jarque-Bera                       2        585.692           0.0000\n",
      "\n",
      "DIAGNOSTICS FOR HETEROSKEDASTICITY\n",
      "RANDOM COEFFICIENTS\n",
      "TEST                             DF        VALUE           PROB\n",
      "Breusch-Pagan test                8         51.827           0.0000\n",
      "Koenker-Bassett test              8          8.988           0.3434\n",
      "================================ END OF REPORT =====================================\n"
     ]
    }
   ],
   "source": [
    "gdf['density_cfr'] = (gdf['cfr'] / gdf['area_municipio'])\n",
    "gdf['y'] = np.log(gdf['density_cfr'] + 1)\n",
    "\n",
    "y = gdf['y'].values.reshape(-1, 1)\n",
    "independent_vars = [\"altitud\", \"humedad_relativa\", \"urbanizacion\", \"densidad\"]\n",
    "X = gdf[independent_vars].values\n",
    "\n",
    "st = StandardScaler()\n",
    "X_scaled = st.fit_transform(X)\n",
    "X_scaled_df = pd.DataFrame(X_scaled, columns=independent_vars)\n",
    "w = Queen.from_dataframe(gdf)\n",
    "\n",
    "wx_dict = {}\n",
    "for var in independent_vars:\n",
    "    wx_dict[f'w_{var}'] = libpysal.weights.spatial_lag.lag_spatial(w, X_scaled_df[var])\n",
    "\n",
    "wx_df = pd.DataFrame(wx_dict)\n",
    "slx_exog = pd.concat([X_scaled_df, wx_df], axis=1)\n",
    "\n",
    "ols_model = spreg.OLS(gdf['y'].values.reshape((-1, 1)), \n",
    "                      slx_exog.values, \n",
    "                      name_y='log_density_cfr', \n",
    "                      name_x=slx_exog.columns.tolist(),\n",
    "                      name_w='queen_contiguity')\n",
    "\n",
    "print(ols_model.summary)"
   ]
  },
  {
   "cell_type": "code",
   "execution_count": 15,
   "metadata": {},
   "outputs": [
    {
     "name": "stdout",
     "output_type": "stream",
     "text": [
      "REGRESSION RESULTS\n",
      "------------------\n",
      "\n",
      "SUMMARY OF OUTPUT: GM SPATIALLY WEIGHTED LEAST SQUARES (HET)\n",
      "------------------------------------------------------------\n",
      "Data set            :     unknown\n",
      "Weights matrix      :queen_contiguity\n",
      "Dependent Variable  :log_density_cfr_rec                Number of Observations:         125\n",
      "Mean dependent var  :      0.0146                Number of Variables   :           5\n",
      "S.D. dependent var  :      0.0161                Degrees of Freedom    :         120\n",
      "Pseudo R-squared    :      0.2302\n",
      "N. of iterations    :           1                Step1c computed       :          No\n",
      "\n",
      "------------------------------------------------------------------------------------\n",
      "            Variable     Coefficient       Std.Error     z-Statistic     Probability\n",
      "------------------------------------------------------------------------------------\n",
      "            CONSTANT         0.01565         0.00177         8.82471         0.00000\n",
      "             altitud         0.00258         0.00097         2.67355         0.00751\n",
      "    humedad_relativa        -0.00256         0.00123        -2.08714         0.03688\n",
      "        urbanizacion         0.00182         0.00172         1.05482         0.29151\n",
      "            densidad         0.00533         0.00188         2.84104         0.00450\n",
      "              lambda         0.04634         0.02431         1.90648         0.05659\n",
      "------------------------------------------------------------------------------------\n",
      "================================ END OF REPORT =====================================\n"
     ]
    }
   ],
   "source": [
    "spatial_error_model = spreg.GM_Error_Het(y, X_scaled, w=w,\n",
    "                                         name_y='log_density_cfr_rec',\n",
    "                                         name_x=independent_vars,\n",
    "                                         name_w='queen_contiguity')\n",
    "print(spatial_error_model.summary)"
   ]
  },
  {
   "cell_type": "code",
   "execution_count": 22,
   "metadata": {},
   "outputs": [
    {
     "name": "stdout",
     "output_type": "stream",
     "text": [
      "REGRESSION RESULTS\n",
      "------------------\n",
      "\n",
      "SUMMARY OF OUTPUT: ML SPATIAL ERROR (METHOD = full)\n",
      "---------------------------------------------------\n",
      "Data set            :     unknown\n",
      "Weights matrix      :queen_contiguity\n",
      "Dependent Variable  :log_density_cfr_rec                Number of Observations:         125\n",
      "Mean dependent var  :      0.0146                Number of Variables   :           5\n",
      "S.D. dependent var  :      0.0161                Degrees of Freedom    :         120\n",
      "Pseudo R-squared    :      0.1538\n",
      "Log likelihood      :    327.1198\n",
      "Sigma-square ML     :      0.0002                Akaike info criterion :    -644.240\n",
      "S.E of regression   :      0.0146                Schwarz criterion     :    -630.098\n",
      "\n",
      "------------------------------------------------------------------------------------\n",
      "            Variable     Coefficient       Std.Error     z-Statistic     Probability\n",
      "------------------------------------------------------------------------------------\n",
      "            CONSTANT         0.08315         0.04305         1.93139         0.05343\n",
      "             altitud        -0.00000         0.00000        -0.26676         0.78965\n",
      "    humedad_relativa        -0.00084         0.00053        -1.57753         0.11467\n",
      "        urbanizacion         0.00905         0.00708         1.27818         0.20119\n",
      "            densidad         0.00000         0.00000         2.28963         0.02204\n",
      "              lambda         0.24569         0.00326        75.40443         0.00000\n",
      "------------------------------------------------------------------------------------\n",
      "================================ END OF REPORT =====================================\n"
     ]
    },
    {
     "name": "stderr",
     "output_type": "stream",
     "text": [
      "/usr/local/Caskroom/miniforge/base/envs/geo/lib/python3.11/site-packages/spreg/ml_error.py:184: RuntimeWarning: Method 'bounded' does not support relative tolerance in x; defaulting to absolute tolerance.\n",
      "  res = minimize_scalar(\n",
      "/usr/local/Caskroom/miniforge/base/envs/geo/lib/python3.11/site-packages/spreg/ml_error.py:563: RuntimeWarning: invalid value encountered in log\n",
      "  jacob = np.log(np.linalg.det(a))\n"
     ]
    }
   ],
   "source": [
    "sem = spreg.ML_Error(y, X, w=w, name_y='log_density_cfr_rec', name_x=independent_vars, name_w='queen_contiguity')\n",
    "print(sem.summary)"
   ]
  },
  {
   "cell_type": "code",
   "execution_count": 23,
   "metadata": {},
   "outputs": [
    {
     "name": "stdout",
     "output_type": "stream",
     "text": [
      "REGRESSION RESULTS\n",
      "------------------\n",
      "\n",
      "SUMMARY OF OUTPUT: SPATIAL TWO STAGE LEAST SQUARES\n",
      "--------------------------------------------------\n",
      "Data set            :     unknown\n",
      "Weights matrix      :queen_contiguity\n",
      "Dependent Variable  :log_density_cfr_rec                Number of Observations:         125\n",
      "Mean dependent var  :      0.0146                Number of Variables   :           6\n",
      "S.D. dependent var  :      0.0161                Degrees of Freedom    :         119\n",
      "Pseudo R-squared    :      0.2027\n",
      "Spatial Pseudo R-squared:  0.1834\n",
      "\n",
      "------------------------------------------------------------------------------------\n",
      "            Variable     Coefficient       Std.Error     z-Statistic     Probability\n",
      "------------------------------------------------------------------------------------\n",
      "            CONSTANT         0.01141         0.00421         2.71028         0.00672\n",
      "             altitud         0.00161         0.00187         0.86164         0.38889\n",
      "    humedad_relativa        -0.00199         0.00144        -1.38110         0.16725\n",
      "        urbanizacion         0.00162         0.00143         1.12993         0.25851\n",
      "            densidad         0.00490         0.00171         2.87026         0.00410\n",
      "W_log_density_cfr_rec         0.04493         0.05711         0.78681         0.43140\n",
      "------------------------------------------------------------------------------------\n",
      "Instrumented: W_log_density_cfr_rec\n",
      "Instruments: W_altitud, W_densidad, W_humedad_relativa, W_urbanizacion\n",
      "\n",
      "DIAGNOSTICS FOR SPATIAL DEPENDENCE\n",
      "TEST                              DF         VALUE           PROB\n",
      "Anselin-Kelejian Test             1          0.008           0.9287\n",
      "\n",
      "SPATIAL LAG MODEL IMPACTS\n",
      "Impacts computed using the 'simple' method.\n",
      "            Variable         Direct        Indirect          Total\n",
      "             altitud         0.0016          0.0001          0.0017\n",
      "    humedad_relativa        -0.0020         -0.0001         -0.0021\n",
      "        urbanizacion         0.0016          0.0001          0.0017\n",
      "            densidad         0.0049          0.0002          0.0051\n",
      "================================ END OF REPORT =====================================\n"
     ]
    }
   ],
   "source": [
    "spatial_lag_model = spreg.GM_Lag(y, X_scaled, w=w,\n",
    "                                 name_y='log_density_cfr_rec',\n",
    "                                 name_x=independent_vars,\n",
    "                                 name_w='queen_contiguity')\n",
    "print(spatial_lag_model.summary)"
   ]
  }
 ],
 "metadata": {
  "kernelspec": {
   "display_name": "geo",
   "language": "python",
   "name": "python3"
  },
  "language_info": {
   "codemirror_mode": {
    "name": "ipython",
    "version": 3
   },
   "file_extension": ".py",
   "mimetype": "text/x-python",
   "name": "python",
   "nbconvert_exporter": "python",
   "pygments_lexer": "ipython3",
   "version": "3.11.12"
  }
 },
 "nbformat": 4,
 "nbformat_minor": 2
}
